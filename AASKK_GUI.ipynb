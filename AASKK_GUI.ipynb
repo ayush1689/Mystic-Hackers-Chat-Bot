{
 "cells": [
  {
   "cell_type": "code",
   "execution_count": 1,
   "metadata": {},
   "outputs": [],
   "source": [
    "#Description: This is a chat bot GUI"
   ]
  },
  {
   "cell_type": "code",
   "execution_count": 2,
   "metadata": {},
   "outputs": [],
   "source": [
    "#Import the library\n",
    "from tkinter import *"
   ]
  },
  {
   "cell_type": "code",
   "execution_count": 3,
   "metadata": {},
   "outputs": [],
   "source": [
    "root = Tk()"
   ]
  },
  {
   "cell_type": "code",
   "execution_count": 4,
   "metadata": {},
   "outputs": [
    {
     "data": {
      "text/plain": [
       "''"
      ]
     },
     "execution_count": 4,
     "metadata": {},
     "output_type": "execute_result"
    }
   ],
   "source": [
    "#Name of the chat Bot\n",
    "root.title(\"AASKK\") \n",
    "#Geometry of the chat Bot\n",
    "root.geometry(\"400x500\")\n",
    "\n",
    "root.resizable(width=FALSE, height=FALSE)"
   ]
  },
  {
   "cell_type": "code",
   "execution_count": 5,
   "metadata": {},
   "outputs": [],
   "source": [
    "main_menu = Menu(root)"
   ]
  },
  {
   "cell_type": "code",
   "execution_count": 6,
   "metadata": {},
   "outputs": [],
   "source": [
    "# Create the submenu \n",
    "file_menu_1 = Menu(root)\n",
    "file_menu_2 = Menu(root)\n",
    "# Add commands to submenu\n",
    "file_menu_1.add_command(label=\"New..\")\n",
    "file_menu_1.add_command(label=\"Save As..\")\n",
    "file_menu_1.add_command(label=\"Exit\")\n",
    "main_menu.add_cascade(label=\"File\", menu=file_menu_1)\n",
    "# Add commands to submenu\n",
    "file_menu_2.add_command(label=\"Python\")\n",
    "file_menu_2.add_command(label=\"Statistics\")\n",
    "file_menu_2.add_command(label=\"Supervised Learning\")\n",
    "file_menu_2.add_command(label=\"Ensemble Techniques\")\n",
    "file_menu_2.add_command(label=\"Unsupervised learning\")\n",
    "file_menu_2.add_command(label=\"Others\")\n",
    "main_menu.add_cascade(label=\"Topics\", menu=file_menu_2)\n",
    "#Add the rest of the menu options to the main menu\n",
    "main_menu.add_command(label=\"Edit\")\n",
    "main_menu.add_command(label=\"Restart\")\n",
    "root.config(menu=main_menu)"
   ]
  },
  {
   "cell_type": "code",
   "execution_count": 7,
   "metadata": {},
   "outputs": [],
   "source": [
    "chatWindow = Text(root, bd=1, bg=\"black\",  width=\"50\", height=\"8\", font=(\"Arial\", 23), foreground=\"#00ffff\")\n",
    "chatWindow.place(x=6,y=6, height=385, width=370)"
   ]
  },
  {
   "cell_type": "code",
   "execution_count": 8,
   "metadata": {},
   "outputs": [],
   "source": [
    "messageWindow = Text(root, bd=0, bg=\"black\",width=\"30\", height=\"4\",\n",
    "                     font=(\"Arial\", 23), foreground=\"#00ffff\")\n",
    "messageWindow.place(x=128, y=400, height=88, width=260)"
   ]
  },
  {
   "cell_type": "code",
   "execution_count": 9,
   "metadata": {},
   "outputs": [],
   "source": [
    "scrollbar = Scrollbar(root, command=chatWindow.yview, cursor=\"star\")\n",
    "scrollbar.place(x=375,y=5, height=385)"
   ]
  },
  {
   "cell_type": "code",
   "execution_count": 10,
   "metadata": {},
   "outputs": [],
   "source": [
    "Button= Button(root, text=\"Send\",  width=\"12\", height=5,\n",
    "                    bd=0, bg=\"#0080ff\", activebackground=\"#00bfff\",foreground='#ffffff',font=(\"Arial\", 12))\n",
    "Button.place(x=6, y=400, height=88)"
   ]
  },
  {
   "cell_type": "code",
   "execution_count": 11,
   "metadata": {},
   "outputs": [],
   "source": [
    "root.mainloop()"
   ]
  },
  {
   "cell_type": "code",
   "execution_count": null,
   "metadata": {},
   "outputs": [],
   "source": []
  }
 ],
 "metadata": {
  "kernelspec": {
   "display_name": "Python 3",
   "language": "python",
   "name": "python3"
  },
  "language_info": {
   "codemirror_mode": {
    "name": "ipython",
    "version": 3
   },
   "file_extension": ".py",
   "mimetype": "text/x-python",
   "name": "python",
   "nbconvert_exporter": "python",
   "pygments_lexer": "ipython3",
   "version": "3.7.7"
  }
 },
 "nbformat": 4,
 "nbformat_minor": 4
}
